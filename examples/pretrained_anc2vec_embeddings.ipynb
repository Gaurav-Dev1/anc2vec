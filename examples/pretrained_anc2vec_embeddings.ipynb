{
  "nbformat": 4,
  "nbformat_minor": 0,
  "metadata": {
    "colab": {
      "name": "pretrained_anc2vec_embeddings.ipynb",
      "provenance": [],
      "toc_visible": true
    },
    "kernelspec": {
      "name": "python3",
      "display_name": "Python 3"
    }
  },
  "cells": [
    {
      "cell_type": "markdown",
      "metadata": {
        "id": "tVAPuA6WvrnV"
      },
      "source": [
        "# Pre-trained Anc2Vec embeddings"
      ]
    },
    {
      "cell_type": "markdown",
      "metadata": {
        "id": "qkeZed4EBGGA"
      },
      "source": [
        "## Install `anc2vec` package"
      ]
    },
    {
      "cell_type": "code",
      "metadata": {
        "id": "yMotdbrc1G3X"
      },
      "source": [
        "!pip3 install -U pip > /dev/null\n",
        "!pip3 install -U \"anc2vec @ git+https://github.com/aedera/anc2vec.git\" > /dev/null"
      ],
      "execution_count": null,
      "outputs": []
    },
    {
      "cell_type": "markdown",
      "metadata": {
        "id": "nc-G0LdMBNMH"
      },
      "source": [
        "## Load embeddings\n",
        "\n",
        "This command loads embeddings constructed using the obo file release 2020-10-06."
      ]
    },
    {
      "cell_type": "code",
      "metadata": {
        "id": "slZm3zU1zHTD"
      },
      "source": [
        "import anc2vec\n",
        "embeds = anc2vec.get_embeddings()"
      ],
      "execution_count": null,
      "outputs": []
    },
    {
      "cell_type": "markdown",
      "metadata": {
        "id": "L06YYIyTBUCX"
      },
      "source": [
        "## Retriving embeddings\n",
        "\n",
        "To retrieve the embedding of GO:0001780, we first need to obtain its index in the embedding matrix."
      ]
    },
    {
      "cell_type": "code",
      "metadata": {
        "id": "BmH7ZbAw5Rzg"
      },
      "source": [
        "row_id = embeds['term2index']['GO:0001780'] # recover index\n",
        "embeds['embeddings'][row_id]"
      ],
      "execution_count": null,
      "outputs": []
    }
  ]
}