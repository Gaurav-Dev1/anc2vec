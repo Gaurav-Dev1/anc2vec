{
  "nbformat": 4,
  "nbformat_minor": 0,
  "metadata": {
    "colab": {
      "name": "pretrained_anc2vec_embeddings.ipynb",
      "provenance": [],
      "collapsed_sections": [],
      "toc_visible": true
    },
    "kernelspec": {
      "name": "python3",
      "display_name": "Python 3"
    }
  },
  "cells": [
    {
      "cell_type": "markdown",
      "metadata": {
        "id": "tVAPuA6WvrnV"
      },
      "source": [
        "# Pre-trained Anc2Vec embeddings"
      ]
    },
    {
      "cell_type": "markdown",
      "metadata": {
        "id": "qkeZed4EBGGA"
      },
      "source": [
        "## Install `anc2vec` package"
      ]
    },
    {
      "cell_type": "code",
      "metadata": {
        "id": "yMotdbrc1G3X"
      },
      "source": [
        "!pip3 install -U pip > /dev/null\n",
        "!pip3 install -U \"anc2vec @ git+https://github.com/aedera/anc2vec.git\" > /dev/null"
      ],
      "execution_count": null,
      "outputs": []
    },
    {
      "cell_type": "markdown",
      "metadata": {
        "id": "nc-G0LdMBNMH"
      },
      "source": [
        "## Load embeddings\n",
        "\n",
        "This command loads embeddings constructed using the obo file release 2020-10-06."
      ]
    },
    {
      "cell_type": "code",
      "metadata": {
        "id": "slZm3zU1zHTD"
      },
      "source": [
        "import anc2vec\n",
        "embeds = anc2vec.get_embeddings()"
      ],
      "execution_count": null,
      "outputs": []
    },
    {
      "cell_type": "markdown",
      "metadata": {
        "id": "L06YYIyTBUCX"
      },
      "source": [
        "## Retriving embeddings\n",
        "\n",
        "To retrieve the embedding of GO:0001780, we first need to obtain its index in the embedding matrix."
      ]
    },
    {
      "cell_type": "code",
      "metadata": {
        "id": "BmH7ZbAw5Rzg"
      },
      "source": [
        "row_id = embeds['term2index']['GO:0001780'] # recover index\n",
        "embeds['embeddings'][row_id]"
      ],
      "execution_count": null,
      "outputs": []
    },
    {
      "cell_type": "markdown",
      "metadata": {
        "id": "6a1dovWQTgZs"
      },
      "source": [
        "## Calculating cosine similarity"
      ]
    },
    {
      "cell_type": "code",
      "metadata": {
        "id": "h9N2E1VhTkYN"
      },
      "source": [
        "from sklearn.metrics.pairwise import cosine_similarity as cosim\n",
        "\n",
        "# similarity between two identical embeddings\n",
        "term_a = embeds['term2index']['GO:0001780'] # get index\n",
        "emb_a = embeds['embeddings'][term_a] # get embedding\n",
        "\n",
        "print(cosim([emb_a], [emb_a]))\n",
        "\n",
        "# similarity between two root terms\n",
        "term_a = embeds['term2index']['GO:0008150'] # root term in BP\n",
        "emb_a = embeds['embeddings'][term_a]\n",
        "\n",
        "term_b = embeds['term2index']['GO:0003674'] # root term in MF\n",
        "emb_b = embeds['embeddings'][term_b]\n",
        "\n",
        "print(cosim([emb_a], [emb_b]))\n",
        "\n",
        "# similarity between two children of the same parent\n",
        "term_a = embeds['term2index']['GO:0044423'] # one child of GO:0005575\n",
        "emb_a = embeds['embeddings'][term_a]\n",
        "\n",
        "term_b = embeds['term2index']['GO:0032991'] # another child of GO:0005575\n",
        "emb_b = embeds['embeddings'][term_b]\n",
        "\n",
        "print(cosim([emb_a], [emb_b]))"
      ],
      "execution_count": null,
      "outputs": []
    },
    {
      "cell_type": "markdown",
      "metadata": {
        "id": "uLAH-QqyN__c"
      },
      "source": [
        "## Visualizing embeddings weights"
      ]
    },
    {
      "cell_type": "code",
      "metadata": {
        "id": "tNgguNXlRtx5"
      },
      "source": [
        "import matplotlib.pyplot as plt\n",
        "\n",
        "plt.rcParams[\"figure.figsize\"] = (10,10)\n",
        "plt.imshow(embeds['embeddings'], interpolation='none', aspect='auto')\n",
        "plt.colorbar()\n",
        "plt.show()"
      ],
      "execution_count": null,
      "outputs": []
    }
  ]
}