{
  "nbformat": 4,
  "nbformat_minor": 0,
  "metadata": {
    "colab": {
      "name": "train_anc2vec_embeddings.ipynb",
      "provenance": [],
      "toc_visible": true
    },
    "kernelspec": {
      "name": "python3",
      "display_name": "Python 3"
    }
  },
  "cells": [
    {
      "cell_type": "markdown",
      "metadata": {
        "id": "tVAPuA6WvrnV"
      },
      "source": [
        "#Train Anc2Vec embeddings"
      ]
    },
    {
      "cell_type": "markdown",
      "metadata": {
        "id": "qkeZed4EBGGA"
      },
      "source": [
        "## Install `anc2vec` package"
      ]
    },
    {
      "cell_type": "code",
      "metadata": {
        "id": "yMotdbrc1G3X"
      },
      "source": [
        "!pip3 install -U pip > /dev/null\n",
        "!pip3 install -U \"anc2vec @ git+https://github.com/aedera/anc2vec.git\" > /dev/null"
      ],
      "execution_count": null,
      "outputs": []
    },
    {
      "cell_type": "markdown",
      "metadata": {
        "id": "nc-G0LdMBNMH"
      },
      "source": [
        "## Download obo file\n"
      ]
    },
    {
      "cell_type": "code",
      "metadata": {
        "id": "slZm3zU1zHTD"
      },
      "source": [
        "!wget 'http://purl.obolibrary.org/obo/go.obo'"
      ],
      "execution_count": null,
      "outputs": []
    },
    {
      "cell_type": "markdown",
      "metadata": {
        "id": "L06YYIyTBUCX"
      },
      "source": [
        "## Constructing embeddings\n"
      ]
    },
    {
      "cell_type": "markdown",
      "metadata": {
        "id": "BiaayMXHZsZc"
      },
      "source": [
        "Our Anc2Vec embeddings were developed on a machine with a GPU with sufficient VRAM available. If your setup diverges from this, you may encounter hardware limitations when constructing your own embeddings."
      ]
    },
    {
      "cell_type": "code",
      "metadata": {
        "id": "BmH7ZbAw5Rzg"
      },
      "source": [
        "import anc2vec.train as builder\n",
        "builder.fit('go.obo', embedding_sz=200, batch_sz=64, num_epochs=100)"
      ],
      "execution_count": null,
      "outputs": []
    }
  ]
}